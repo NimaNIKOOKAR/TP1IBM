{
 "cells": [
  {
   "cell_type": "markdown",
   "id": "d0a23546-9af5-4d1b-a1f5-169c1469d78b",
   "metadata": {},
   "source": [
    "# Data Science Tools and Ecosystem"
   ]
  },
  {
   "cell_type": "markdown",
   "id": "506479d0-1e1f-4ac3-832e-3812a7e6c3eb",
   "metadata": {},
   "source": [
    "## Author\n",
    "\n",
    "Name : Nima NIKOOKAR"
   ]
  },
  {
   "cell_type": "markdown",
   "id": "5e9a25b0-a8fd-484c-b7be-b0e46d5b90fc",
   "metadata": {},
   "source": [
    "In this notebook several DataScience tools used for practice."
   ]
  },
  {
   "cell_type": "markdown",
   "id": "ccfdda02-e94b-4b13-83ff-6ad9b9ba25e5",
   "metadata": {},
   "source": [
    " **Objectives :**\n",
    " + List of Programming Languages\n",
    " + List of Data Science Libraries\n",
    " + Table of open source tools\n",
    " + Arithmetic code examples\n"
   ]
  },
  {
   "cell_type": "markdown",
   "id": "819f8653-812d-444a-a272-66206a142a79",
   "metadata": {},
   "source": [
    "#### List of Popular Data Science Programming Languages\n",
    "\n",
    "1. Python\n",
    "2. R\n",
    "3. SQL\n",
    "4. Java\n",
    "5. Julia\n",
    "6. Scala"
   ]
  },
  {
   "cell_type": "markdown",
   "id": "dde0f6b0-64a0-4bdf-b83c-f31a228d5764",
   "metadata": {},
   "source": [
    "#### List of commonly used Data Science libraries\n",
    "\n",
    "1. Pandas\n",
    "2. Numpy\n",
    "3. Scikit-learn\n",
    "4. Scipy\n",
    "5. Seaborn"
   ]
  },
  {
   "cell_type": "markdown",
   "id": "a35b5885-46ec-47c8-9b3e-053d7dd3355c",
   "metadata": {},
   "source": [
    "|  Data Science Tools |\n",
    "| -------------------- |\n",
    "| RStudio |\n",
    "| Apache Spark |\n",
    "| TensorFlow |\n",
    "| Apache Hadoop |"
   ]
  },
  {
   "cell_type": "markdown",
   "id": "9efcda0b-9ad3-4562-baea-c7da40fb2218",
   "metadata": {},
   "source": [
    "### Examples of arithmetic expressions"
   ]
  },
  {
   "cell_type": "code",
   "execution_count": 7,
   "id": "dbcf52a3-6555-46fc-bb5f-388e346ac26a",
   "metadata": {},
   "outputs": [
    {
     "data": {
      "text/plain": [
       "17"
      ]
     },
     "execution_count": 7,
     "metadata": {},
     "output_type": "execute_result"
    }
   ],
   "source": [
    "# In this arithmetic expression example we first multiply 3 with 4 and then add it with 5\n",
    "\n",
    "(3*4)+5"
   ]
  },
  {
   "cell_type": "code",
   "execution_count": 9,
   "id": "a47a5f66-2b50-436c-9519-18a3f4e049a6",
   "metadata": {},
   "outputs": [
    {
     "data": {
      "text/plain": [
       "3.3333333333333335"
      ]
     },
     "execution_count": 9,
     "metadata": {},
     "output_type": "execute_result"
    }
   ],
   "source": [
    "# In this example we convert 200 min to hour\n",
    "\n",
    "200 / 60"
   ]
  },
  {
   "cell_type": "code",
   "execution_count": null,
   "id": "82c9a88b-411f-40b8-97fd-b11939383739",
   "metadata": {},
   "outputs": [],
   "source": []
  }
 ],
 "metadata": {
  "kernelspec": {
   "display_name": "Python 3 (ipykernel)",
   "language": "python",
   "name": "python3"
  },
  "language_info": {
   "codemirror_mode": {
    "name": "ipython",
    "version": 3
   },
   "file_extension": ".py",
   "mimetype": "text/x-python",
   "name": "python",
   "nbconvert_exporter": "python",
   "pygments_lexer": "ipython3",
   "version": "3.12.4"
  }
 },
 "nbformat": 4,
 "nbformat_minor": 5
}
